{
 "cells": [
  {
   "cell_type": "markdown",
   "metadata": {},
   "source": [
    "# 2022 Innovation Camp Coding Challenge\n",
    "\n",
    "## Table of Contents\n",
    "- Introduction\n",
    "- Instructions\n",
    "    1. Load the data\n",
    "    2. Clean the data\n",
    "    3. Create a plot\n",
    "    4. Do some analysis\n",
    "    5. Create a new plot\n",
    "    6. Prepare a report\n",
    "- Further Directions\n",
    "\n",
    "## Introduction\n",
    "\n",
    "Rmarkdown files consist of blocks or chunks of code written in R and text written in markdown. You can run the code chunk by chunk or by knitting the entire document at once.\n",
    "\n",
    "In the following chunk we load packages we will need and set preferences for knitting the document. Anything behind a \"#\" symbol is \"commented code\" and will be ignored by the compiler.\n"
   ]
  },
  {
   "cell_type": "code",
   "execution_count": null,
   "metadata": {},
   "outputs": [],
   "source": [
    "# Load libraries\n",
    "library(cansim) # read in CODR/NDM tables\n",
    "library(dplyr) # allows for piping (%>%)\n",
    "library(tidyr) # allows for shaping the data\n",
    "library(plotly) # for creating plots\n",
    "\n",
    "knitr::opts_chunk$set(warning = FALSE, message = FALSE) "
   ]
  },
  {
   "cell_type": "markdown",
   "metadata": {},
   "source": [
    "## Instructions\n",
    "\n",
    "### 1. Load the data\n",
    "Today we will be working with [Stocks of specified dairy products](https://www150.statcan.gc.ca/t1/tbl1/en/tv.action?pid=3210000101#tables). This data is stored in a CODR (Census something something??) table\n"
   ]
  },
  {
   "cell_type": "code",
   "execution_count": null,
   "metadata": {},
   "outputs": [],
   "source": [
    "# Load our data\n",
    "df <- get_cansim(\"32-10-0001-01\")"
   ]
  },
  {
   "cell_type": "markdown",
   "metadata": {},
   "source": [
    "Let's get to know the data a bit better. Let's checkout the columns and the range of values."
   ]
  },
  {
   "cell_type": "code",
   "execution_count": null,
   "metadata": {},
   "outputs": [],
   "source": [
    "# print a summary of our data\n",
    "print(summary(df))"
   ]
  },
  {
   "cell_type": "markdown",
   "metadata": {},
   "source": [
    "What are some things you notice about the data?\n",
    "\n",
    "### 2. Clean the data\n",
    "In short, \"cleaning data\" means to prepare it for analysis. Removing empty values, converting values to the same format or otherwise manipulating your data to improve the quality and uniformity are all examples of cleaning your data.\n",
    "\n",
    "How might we need to clean this data?"
   ]
  },
  {
   "cell_type": "code",
   "execution_count": null,
   "metadata": {},
   "outputs": [],
   "source": [
    "# drop totally empty columns\n",
    "df <- df %>% select(-(\"STATUS\" | \"SYMBOL\" | starts_with(\"Classification\")))\n",
    "\n",
    "# there are two date type columns. Let's keep the more precise one.\n",
    "df <- df %>% select(-\"REF_DATE\")\n"
   ]
  },
  {
   "cell_type": "markdown",
   "metadata": {},
   "source": [
    "Now let's drop some columns we aren't really interested in. Using the above as an example, drop \"SCALAR_FACTOR\", \"SCALAR_ID\", and \"DECIMALS\". Note that there are many different equivalent ways to drop columns."
   ]
  },
  {
   "cell_type": "code",
   "execution_count": null,
   "metadata": {},
   "outputs": [],
   "source": [
    "# your code here"
   ]
  },
  {
   "cell_type": "markdown",
   "metadata": {},
   "source": [
    "### 3. Create a plot\n",
    "We're now a bit more familiar with our data, but it can be difficult to parse from a table! Let's create a plot so we can get a better idea of what's going on. What are some things we might want to find out and what is the best way to visualize them?\n",
    "\n",
    "Since we have date information, it makes sense to make a time series plot! To keep things simple, let's focus on creamery butter in Canada over time.\n"
   ]
  },
  {
   "cell_type": "code",
   "execution_count": null,
   "metadata": {},
   "outputs": [],
   "source": [
    "#create a bar plot\n",
    "fig <- plot_ly(\n",
    "  data = df %>% filter(GEO == \"Canada\" & Commodity == \"Creamery butter\"), # filtering for Canada and Creamery butter only\n",
    "  x = ~Date, # the x-axis will be the date\n",
    "  y = ~VALUE, # the y-qaxis will be the values of the commodity\n",
    "  type = \"bar\" # the type of plot will be bar\n",
    "  ) %>%\n",
    "  layout(title=\"Creamery Butter Stock in Canada\", xaxis = list(title = \"Date\"), yaxis = list(title = \"Value\")) # set the title for the graph and axes.\n",
    "\n",
    "fig # call the fig to display it\n"
   ]
  },
  {
   "cell_type": "markdown",
   "metadata": {},
   "source": [
    "Using the code above, make a new plot showing the stocks of another dairy product in another region over time. Be sure to update the title as appropriate.\n"
   ]
  },
  {
   "cell_type": "code",
   "execution_count": null,
   "metadata": {},
   "outputs": [],
   "source": [
    "# your code here"
   ]
  },
  {
   "cell_type": "markdown",
   "metadata": {},
   "source": [
    "We might also be curious about the breakdown of type of dairy product stocks. Let's visualize this in a pie chart. To keep it simple, let's focus on Canada and the most recent data, so June 2022.\n"
   ]
  },
  {
   "cell_type": "code",
   "execution_count": null,
   "metadata": {},
   "outputs": [],
   "source": [
    "fig <- plot_ly(\n",
    "  data = df %>% filter(GEO == \"Canada\" & Date == \"2022-06-01\"), # filter for Canada and June 2022 only\n",
    "  labels = ~Commodity, # the labels of the pie chart will be the commodities\n",
    "  values = ~VALUE, # the sizes of each slice are determined by the values of commodities\n",
    "  type = \"pie\" # the plot will be a pie chart\n",
    "  ) %>%\n",
    "  layout(title=\"Canadian Dairy Product Stocks for 2022-06-01\") # set the chart name\n",
    "\n",
    "fig # call the fig to display"
   ]
  },
  {
   "cell_type": "code",
   "execution_count": null,
   "metadata": {},
   "outputs": [],
   "source": [
    "Make another pie chart for another time period."
   ]
  },
  {
   "cell_type": "code",
   "execution_count": null,
   "metadata": {},
   "outputs": [],
   "source": [
    "# your code here"
   ]
  },
  {
   "cell_type": "markdown",
   "metadata": {},
   "source": [
    "### 4. Do some analysis\n",
    "Next we need to transform our data a bit further. Let's compute the most numerous commodity\n",
    "\n",
    "### 5. Create a new plot\n",
    "\n",
    "### 6. Prepare a report\n",
    "\n",
    "Write a short summary of what you have learned. You may wish to include some plots!\n",
    "\n",
    "## Further Directions\n",
    "\n",
    "1. Optimization:\n",
    "Data.table is a structure that is faster than the built-in data.frame structure. Can you rewrite the code to make use of this structure instead?\n",
    "\n",
    "2. Collaboration:\n",
    "You could put your code on Gitlab and have your colleagues provide feedback or even contribute to your code.\n",
    "\n",
    "3. Interactivity:\n",
    "RShiny is a tool to create interactive dashboard etc..."
   ]
  }
 ],
 "metadata": {
  "kernelspec": {
   "display_name": "Python 3.8.10 64-bit",
   "language": "python",
   "name": "python3"
  },
  "language_info": {
   "name": "python",
   "version": "3.8.10"
  },
  "orig_nbformat": 4,
  "vscode": {
   "interpreter": {
    "hash": "916dbcbb3f70747c44a77c7bcd40155683ae19c65e1c03b4aa3499c5328201f1"
   }
  }
 },
 "nbformat": 4,
 "nbformat_minor": 2
}
